{
 "cells": [
  {
   "cell_type": "code",
   "execution_count": 1,
   "id": "3e330c1e-ee50-4e6f-8d6a-226807c694b7",
   "metadata": {},
   "outputs": [],
   "source": [
    "!pip install matplotlib\n"
   ]
  },
  {
   "cell_type": "code",
   "execution_count": 2,
   "id": "73d9a6e8-7074-48da-afc0-43f9e07e6c7e",
   "metadata": {},
   "outputs": [
    {
     "name": "stdout",
     "output_type": "stream",
     "text": [
      "c:\\users\\disha\\appdata\\local\\programs\\python\\python39\\python.exe\n"
     ]
    }
   ],
   "source": [
    "import sys\n",
    "print(sys.executable)\n"
   ]
  },
  {
   "cell_type": "code",
   "execution_count": 4,
   "id": "e27ddcec-dbcc-47a2-a9b2-72945512d288",
   "metadata": {},
   "outputs": [],
   "source": [
    "!pip install yfinance matplotlib plotly pandas\n"
   ]
  },
  {
   "cell_type": "code",
   "execution_count": 6,
   "id": "567e4563-de92-48c1-9538-0ffb50a8af6a",
   "metadata": {},
   "outputs": [
    {
     "name": "stdout",
     "output_type": "stream",
     "text": [
      "Collecting matplotlib\n",
      "  Downloading matplotlib-3.9.4-cp39-cp39-win_amd64.whl (7.8 MB)\n",
      "     ---------------------------------------- 7.8/7.8 MB 256.9 kB/s eta 0:00:00\n",
      "Collecting fonttools>=4.22.0\n",
      "  Downloading fonttools-4.58.5-cp39-cp39-win_amd64.whl (1.5 MB)\n",
      "     ---------------------------------------- 1.5/1.5 MB 164.0 kB/s eta 0:00:00\n",
      "Collecting cycler>=0.10\n",
      "  Downloading cycler-0.12.1-py3-none-any.whl (8.3 kB)\n",
      "Requirement already satisfied: packaging>=20.0 in c:\\users\\disha\\appdata\\local\\programs\\python\\python39\\lib\\site-packages (from matplotlib) (24.2)\n",
      "Collecting kiwisolver>=1.3.1\n",
      "  Downloading kiwisolver-1.4.7-cp39-cp39-win_amd64.whl (55 kB)\n",
      "     --------------------------------------- 55.8/55.8 KB 37.9 kB/s eta 0:00:00\n",
      "Requirement already satisfied: numpy>=1.23 in c:\\users\\disha\\appdata\\local\\programs\\python\\python39\\lib\\site-packages (from matplotlib) (2.0.2)\n",
      "Requirement already satisfied: python-dateutil>=2.7 in c:\\users\\disha\\appdata\\local\\programs\\python\\python39\\lib\\site-packages (from matplotlib) (2.9.0.post0)\n",
      "Collecting importlib-resources>=3.2.0\n",
      "  Downloading importlib_resources-6.5.2-py3-none-any.whl (37 kB)\n",
      "Collecting pyparsing>=2.3.1\n",
      "  Downloading pyparsing-3.2.3-py3-none-any.whl (111 kB)\n",
      "     ------------------------------------ 111.1/111.1 KB 720.6 kB/s eta 0:00:00\n",
      "Collecting contourpy>=1.0.1\n",
      "  Downloading contourpy-1.3.0-cp39-cp39-win_amd64.whl (211 kB)\n",
      "     ------------------------------------ 211.8/211.8 KB 460.2 kB/s eta 0:00:00\n",
      "Collecting pillow>=8\n",
      "  Downloading pillow-11.3.0-cp39-cp39-win_amd64.whl (7.0 MB)\n",
      "     ---------------------------------------- 7.0/7.0 MB 182.2 kB/s eta 0:00:00\n",
      "Requirement already satisfied: zipp>=3.1.0 in c:\\users\\disha\\appdata\\local\\programs\\python\\python39\\lib\\site-packages (from importlib-resources>=3.2.0->matplotlib) (3.21.0)\n",
      "Requirement already satisfied: six>=1.5 in c:\\users\\disha\\appdata\\local\\programs\\python\\python39\\lib\\site-packages (from python-dateutil>=2.7->matplotlib) (1.17.0)\n",
      "Installing collected packages: pyparsing, pillow, kiwisolver, importlib-resources, fonttools, cycler, contourpy, matplotlib\n",
      "Successfully installed contourpy-1.3.0 cycler-0.12.1 fonttools-4.58.5 importlib-resources-6.5.2 kiwisolver-1.4.7 matplotlib-3.9.4 pillow-11.3.0 pyparsing-3.2.3\n"
     ]
    },
    {
     "name": "stderr",
     "output_type": "stream",
     "text": [
      "WARNING: You are using pip version 22.0.4; however, version 25.1.1 is available.\n",
      "You should consider upgrading via the 'c:\\users\\disha\\appdata\\local\\programs\\python\\python39\\python.exe -m pip install --upgrade pip' command.\n"
     ]
    }
   ],
   "source": [
    "!c:\\users\\disha\\appdata\\local\\programs\\python\\python39\\python.exe -m pip install matplotlib\n"
   ]
  },
  {
   "cell_type": "code",
   "execution_count": 7,
   "id": "78d39ae7-a8f5-49e4-a94f-c8c08c0bfafc",
   "metadata": {},
   "outputs": [],
   "source": [
    "import matplotlib.pyplot as plt\n"
   ]
  },
  {
   "cell_type": "code",
   "execution_count": 8,
   "id": "26956427-290d-4841-9f37-d41441e7dc01",
   "metadata": {},
   "outputs": [],
   "source": [
    "!pip install yfinance\n"
   ]
  },
  {
   "cell_type": "code",
   "execution_count": 11,
   "id": "44a4e003-100d-495b-949e-2d63eab83569",
   "metadata": {},
   "outputs": [
    {
     "name": "stdout",
     "output_type": "stream",
     "text": [
      "Collecting plotly\n",
      "  Downloading plotly-6.2.0-py3-none-any.whl (9.6 MB)\n",
      "     ---------------------------------------- 9.6/9.6 MB 1.1 MB/s eta 0:00:00\n",
      "Collecting narwhals>=1.15.1\n",
      "  Downloading narwhals-1.45.0-py3-none-any.whl (371 kB)\n",
      "     -------------------------------------- 371.6/371.6 KB 1.3 MB/s eta 0:00:00\n",
      "Requirement already satisfied: packaging in c:\\users\\disha\\appdata\\local\\programs\\python\\python39\\lib\\site-packages (from plotly) (24.2)\n",
      "Installing collected packages: narwhals, plotly\n",
      "Successfully installed narwhals-1.45.0 plotly-6.2.0\n"
     ]
    },
    {
     "name": "stderr",
     "output_type": "stream",
     "text": [
      "WARNING: You are using pip version 22.0.4; however, version 25.1.1 is available.\n",
      "You should consider upgrading via the 'c:\\users\\disha\\appdata\\local\\programs\\python\\python39\\python.exe -m pip install --upgrade pip' command.\n"
     ]
    }
   ],
   "source": [
    "!c:\\users\\disha\\appdata\\local\\programs\\python\\python39\\python.exe -m pip install plotly\n"
   ]
  },
  {
   "cell_type": "code",
   "execution_count": 12,
   "id": "45d461bb-bea4-418b-93d0-9cf934cde9ae",
   "metadata": {},
   "outputs": [],
   "source": [
    "import plotly.graph_objs as go\n"
   ]
  },
  {
   "cell_type": "code",
   "execution_count": 3,
   "id": "0427e295-63b3-4161-b8b8-cc3b94c775f0",
   "metadata": {},
   "outputs": [],
   "source": [
    "import yfinance as yf\n",
    "import pandas as pd\n",
    "import matplotlib.pyplot as plt\n",
    "import plotly.graph_objs as go\n"
   ]
  },
  {
   "cell_type": "code",
   "execution_count": 4,
   "id": "9fb6e604-17d1-443d-9cf0-82807bf6d820",
   "metadata": {},
   "outputs": [
    {
     "name": "stderr",
     "output_type": "stream",
     "text": [
      "C:\\Users\\Disha\\AppData\\Local\\Temp\\ipykernel_12116\\4022606245.py:3: FutureWarning: YF.download() has changed argument auto_adjust default to True\n",
      "  data = yf.download(ticker, start=\"2023-07-01\", end=\"2024-07-01\")\n",
      "[*********************100%***********************]  1 of 1 completed\n"
     ]
    },
    {
     "data": {
      "text/html": [
       "<div>\n",
       "<style scoped>\n",
       "    .dataframe tbody tr th:only-of-type {\n",
       "        vertical-align: middle;\n",
       "    }\n",
       "\n",
       "    .dataframe tbody tr th {\n",
       "        vertical-align: top;\n",
       "    }\n",
       "\n",
       "    .dataframe thead tr th {\n",
       "        text-align: left;\n",
       "    }\n",
       "\n",
       "    .dataframe thead tr:last-of-type th {\n",
       "        text-align: right;\n",
       "    }\n",
       "</style>\n",
       "<table border=\"1\" class=\"dataframe\">\n",
       "  <thead>\n",
       "    <tr>\n",
       "      <th>Price</th>\n",
       "      <th>Close</th>\n",
       "      <th>High</th>\n",
       "      <th>Low</th>\n",
       "      <th>Open</th>\n",
       "      <th>Volume</th>\n",
       "    </tr>\n",
       "    <tr>\n",
       "      <th>Ticker</th>\n",
       "      <th>AAPL</th>\n",
       "      <th>AAPL</th>\n",
       "      <th>AAPL</th>\n",
       "      <th>AAPL</th>\n",
       "      <th>AAPL</th>\n",
       "    </tr>\n",
       "    <tr>\n",
       "      <th>Date</th>\n",
       "      <th></th>\n",
       "      <th></th>\n",
       "      <th></th>\n",
       "      <th></th>\n",
       "      <th></th>\n",
       "    </tr>\n",
       "  </thead>\n",
       "  <tbody>\n",
       "    <tr>\n",
       "      <th>2023-07-03</th>\n",
       "      <td>190.552139</td>\n",
       "      <td>191.958061</td>\n",
       "      <td>189.859066</td>\n",
       "      <td>191.859046</td>\n",
       "      <td>31458200</td>\n",
       "    </tr>\n",
       "    <tr>\n",
       "      <th>2023-07-05</th>\n",
       "      <td>189.433350</td>\n",
       "      <td>191.066987</td>\n",
       "      <td>188.730381</td>\n",
       "      <td>189.670976</td>\n",
       "      <td>46920300</td>\n",
       "    </tr>\n",
       "    <tr>\n",
       "      <th>2023-07-06</th>\n",
       "      <td>189.908569</td>\n",
       "      <td>190.116494</td>\n",
       "      <td>187.324442</td>\n",
       "      <td>187.958097</td>\n",
       "      <td>45094300</td>\n",
       "    </tr>\n",
       "    <tr>\n",
       "      <th>2023-07-07</th>\n",
       "      <td>188.789764</td>\n",
       "      <td>190.760043</td>\n",
       "      <td>188.354139</td>\n",
       "      <td>189.512539</td>\n",
       "      <td>46815000</td>\n",
       "    </tr>\n",
       "    <tr>\n",
       "      <th>2023-07-10</th>\n",
       "      <td>186.740326</td>\n",
       "      <td>188.106651</td>\n",
       "      <td>185.185882</td>\n",
       "      <td>187.383876</td>\n",
       "      <td>59922200</td>\n",
       "    </tr>\n",
       "  </tbody>\n",
       "</table>\n",
       "</div>"
      ],
      "text/plain": [
       "Price            Close        High         Low        Open    Volume\n",
       "Ticker            AAPL        AAPL        AAPL        AAPL      AAPL\n",
       "Date                                                                \n",
       "2023-07-03  190.552139  191.958061  189.859066  191.859046  31458200\n",
       "2023-07-05  189.433350  191.066987  188.730381  189.670976  46920300\n",
       "2023-07-06  189.908569  190.116494  187.324442  187.958097  45094300\n",
       "2023-07-07  188.789764  190.760043  188.354139  189.512539  46815000\n",
       "2023-07-10  186.740326  188.106651  185.185882  187.383876  59922200"
      ]
     },
     "execution_count": 4,
     "metadata": {},
     "output_type": "execute_result"
    }
   ],
   "source": [
    "# Download historical stock data for Apple\n",
    "ticker = 'AAPL'\n",
    "data = yf.download(ticker, start=\"2023-07-01\", end=\"2024-07-01\")\n",
    "\n",
    "# Display first few rows\n",
    "data.head()\n"
   ]
  },
  {
   "cell_type": "code",
   "execution_count": 5,
   "id": "45a2745b-186f-4c85-b36e-5c30a99b122b",
   "metadata": {},
   "outputs": [],
   "source": [
    "data['SMA_50'] = data['Close'].rolling(window=50).mean()\n",
    "data['SMA_200'] = data['Close'].rolling(window=200).mean()\n"
   ]
  },
  {
   "cell_type": "code",
   "execution_count": 6,
   "id": "c22ca2e1-82f8-46db-8927-b5717ca61afb",
   "metadata": {},
   "outputs": [
    {
     "data": {
      "image/png": "[encoded data removed]",
      "text/plain": [
       "<Figure size 1400x700 with 1 Axes>"
      ]
     },
     "metadata": {},
     "output_type": "display_data"
    }
   ],
   "source": [
    "plt.figure(figsize=(14, 7))\n",
    "plt.plot(data['Close'], label='Close Price', color='blue')\n",
    "plt.plot(data['SMA_50'], label='50-Day SMA', color='orange')\n",
    "plt.plot(data['SMA_200'], label='200-Day SMA', color='green')\n",
    "plt.title(f'{ticker} Stock Price with Moving Averages')\n",
    "plt.xlabel('Date')\n",
    "plt.ylabel('Price (USD)')\n",
    "plt.legend()\n",
    "plt.grid()\n",
    "plt.show()\n"
   ]
  },
  {
   "cell_type": "code",
   "execution_count": 7,
   "id": "163a053b-645b-425c-8cd3-275a676641da",
   "metadata": {},
   "outputs": [
    {
     "data": {
      "application/vnd.plotly.v1+json": {
       "config": {
        "plotlyServerURL": "https://plot.ly"
       },
       "data": [
        {
         "close": {
          "bdata": "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",
          "dtype": "f8",
          "shape": "250, 1"
         },
         "high": {
          "bdata": "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",
          "dtype": "f8",
          "shape": "250, 1"
         },
         "low": {
          "bdata": "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",
          "dtype": "f8",
          "shape": "250, 1"
         },
         "name": "Price",
         "open": {
          "bdata": "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",
          "dtype": "f8",
          "shape": "250, 1"
         },
         "type": "candlestick",
         "x": [
          "2023-07-03T00:00:00.000000000",
          "2023-07-05T00:00:00.000000000",
          "2023-07-06T00:00:00.000000000",
          "2023-07-07T00:00:00.000000000",
          "2023-07-10T00:00:00.000000000",
          "2023-07-11T00:00:00.000000000",
          "2023-07-12T00:00:00.000000000",
          "2023-07-13T00:00:00.000000000",
          "2023-07-14T00:00:00.000000000",
          "2023-07-17T00:00:00.000000000",
          "2023-07-18T00:00:00.000000000",
          "2023-07-19T00:00:00.000000000",
          "2023-07-20T00:00:00.000000000",
          "2023-07-21T00:00:00.000000000",
          "2023-07-24T00:00:00.000000000",
          "2023-07-25T00:00:00.000000000",
          "2023-07-26T00:00:00.000000000",
          "2023-07-27T00:00:00.000000000",
          "2023-07-28T00:00:00.000000000",
          "2023-07-31T00:00:00.000000000",
          "2023-08-01T00:00:00.000000000",
          "2023-08-02T00:00:00.000000000",
          "2023-08-03T00:00:00.000000000",
          "2023-08-04T00:00:00.000000000",
          "2023-08-07T00:00:00.000000000",
          "2023-08-08T00:00:00.000000000",
          "2023-08-09T00:00:00.000000000",
          "2023-08-10T00:00:00.000000000",
          "2023-08-11T00:00:00.000000000",
          "2023-08-14T00:00:00.000000000",
          "2023-08-15T00:00:00.000000000",
          "2023-08-16T00:00:00.000000000",
          "2023-08-17T00:00:00.000000000",
          "2023-08-18T00:00:00.000000000",
          "2023-08-21T00:00:00.000000000",
          "2023-08-22T00:00:00.000000000",
          "2023-08-23T00:00:00.000000000",
          "2023-08-24T00:00:00.000000000",
          "2023-08-25T00:00:00.000000000",
          "2023-08-28T00:00:00.000000000",
          "2023-08-29T00:00:00.000000000",
          "2023-08-30T00:00:00.000000000",
          "2023-08-31T00:00:00.000000000",
          "2023-09-01T00:00:00.000000000",
          "2023-09-05T00:00:00.000000000",
          "2023-09-06T00:00:00.000000000",
          "2023-09-07T00:00:00.000000000",
          "2023-09-08T00:00:00.000000000",
          "2023-09-11T00:00:00.000000000",
          "2023-09-12T00:00:00.000000000",
          "2023-09-13T00:00:00.000000000",
          "2023-09-14T00:00:00.000000000",
          "2023-09-15T00:00:00.000000000",
          "2023-09-18T00:00:00.000000000",
          "2023-09-19T00:00:00.000000000",
          "2023-09-20T00:00:00.000000000",
          "2023-09-21T00:00:00.000000000",
          "2023-09-22T00:00:00.000000000",
          "2023-09-25T00:00:00.000000000",
          "2023-09-26T00:00:00.000000000",
          "2023-09-27T00:00:00.000000000",
          "2023-09-28T00:00:00.000000000",
          "2023-09-29T00:00:00.000000000",
          "2023-10-02T00:00:00.000000000",
          "2023-10-03T00:00:00.000000000",
          "2023-10-04T00:00:00.000000000",
          "2023-10-05T00:00:00.000000000",
          "2023-10-06T00:00:00.000000000",
          "2023-10-09T00:00:00.000000000",
          "2023-10-10T00:00:00.000000000",
          "2023-10-11T00:00:00.000000000",
          "2023-10-12T00:00:00.000000000",
          "2023-10-13T00:00:00.000000000",
          "2023-10-16T00:00:00.000000000",
          "2023-10-17T00:00:00.000000000",
          "2023-10-18T00:00:00.000000000",
          "2023-10-19T00:00:00.000000000",
          "2023-10-20T00:00:00.000000000",
          "2023-10-23T00:00:00.000000000",
          "2023-10-24T00:00:00.000000000",
          "2023-10-25T00:00:00.000000000",
          "2023-10-26T00:00:00.000000000",
          "2023-10-27T00:00:00.000000000",
          "2023-10-30T00:00:00.000000000",
          "2023-10-31T00:00:00.000000000",
          "2023-11-01T00:00:00.000000000",
          "2023-11-02T00:00:00.000000000",
          "2023-11-03T00:00:00.000000000",
          "2023-11-06T00:00:00.000000000",
          "2023-11-07T00:00:00.000000000",
          "2023-11-08T00:00:00.000000000",
          "2023-11-09T00:00:00.000000000",
          "2023-11-10T00:00:00.000000000",
          "2023-11-13T00:00:00.000000000",
          "2023-11-14T00:00:00.000000000",
          "2023-11-15T00:00:00.000000000",
          "2023-11-16T00:00:00.000000000",
          "2023-11-17T00:00:00.000000000",
          "2023-11-20T00:00:00.000000000",
          "2023-11-21T00:00:00.000000000",
          "2023-11-22T00:00:00.000000000",
          "2023-11-24T00:00:00.000000000",
          "2023-11-27T00:00:00.000000000",
          "2023-11-28T00:00:00.000000000",
          "2023-11-29T00:00:00.000000000",
          "2023-11-30T00:00:00.000000000",
          "2023-12-01T00:00:00.000000000",
          "2023-12-04T00:00:00.000000000",
          "2023-12-05T00:00:00.000000000",
          "2023-12-06T00:00:00.000000000",
          "2023-12-07T00:00:00.000000000",
          "2023-12-08T00:00:00.000000000",
          "2023-12-11T00:00:00.000000000",
          "2023-12-12T00:00:00.000000000",
          "2023-12-13T00:00:00.000000000",
          "2023-12-14T00:00:00.000000000",
          "2023-12-15T00:00:00.000000000",
          "2023-12-18T00:00:00.000000000",
          "2023-12-19T00:00:00.000000000",
          "2023-12-20T00:00:00.000000000",
          "2023-12-21T00:00:00.000000000",
          "2023-12-22T00:00:00.000000000",
          "2023-12-26T00:00:00.000000000",
          "2023-12-27T00:00:00.000000000",
          "2023-12-28T00:00:00.000000000",
          "2023-12-29T00:00:00.000000000",
          "2024-01-02T00:00:00.000000000",
          "2024-01-03T00:00:00.000000000",
          "2024-01-04T00:00:00.000000000",
          "2024-01-05T00:00:00.000000000",
          "2024-01-08T00:00:00.000000000",
          "2024-01-09T00:00:00.000000000",
          "2024-01-10T00:00:00.000000000",
          "2024-01-11T00:00:00.000000000",
          "2024-01-12T00:00:00.000000000",
          "2024-01-16T00:00:00.000000000",
          "2024-01-17T00:00:00.000000000",
          "2024-01-18T00:00:00.000000000",
          "2024-01-19T00:00:00.000000000",
          "2024-01-22T00:00:00.000000000",
          "2024-01-23T00:00:00.000000000",
          "2024-01-24T00:00:00.000000000",
          "2024-01-25T00:00:00.000000000",
          "2024-01-26T00:00:00.000000000",
          "2024-01-29T00:00:00.000000000",
          "2024-01-30T00:00:00.000000000",
          "2024-01-31T00:00:00.000000000",
          "2024-02-01T00:00:00.000000000",
          "2024-02-02T00:00:00.000000000",
          "2024-02-05T00:00:00.000000000",
          "2024-02-06T00:00:00.000000000",
          "2024-02-07T00:00:00.000000000",
          "2024-02-08T00:00:00.000000000",
          "2024-02-09T00:00:00.000000000",
          "2024-02-12T00:00:00.000000000",
          "2024-02-13T00:00:00.000000000",
          "2024-02-14T00:00:00.000000000",
          "2024-02-15T00:00:00.000000000",
          "2024-02-16T00:00:00.000000000",
          "2024-02-20T00:00:00.000000000",
          "2024-02-21T00:00:00.000000000",
          "2024-02-22T00:00:00.000000000",
          "2024-02-23T00:00:00.000000000",
          "2024-02-26T00:00:00.000000000",
          "2024-02-27T00:00:00.000000000",
          "2024-02-28T00:00:00.000000000",
          "2024-02-29T00:00:00.000000000",
          "2024-03-01T00:00:00.000000000",
          "2024-03-04T00:00:00.000000000",
          "2024-03-05T00:00:00.000000000",
          "2024-03-06T00:00:00.000000000",
          "2024-03-07T00:00:00.000000000",
          "2024-03-08T00:00:00.000000000",
          "2024-03-11T00:00:00.000000000",
          "2024-03-12T00:00:00.000000000",
          "2024-03-13T00:00:00.000000000",
          "2024-03-14T00:00:00.000000000",
          "2024-03-15T00:00:00.000000000",
          "2024-03-18T00:00:00.000000000",
          "2024-03-19T00:00:00.000000000",
          "2024-03-20T00:00:00.000000000",
          "2024-03-21T00:00:00.000000000",
          "2024-03-22T00:00:00.000000000",
          "2024-03-25T00:00:00.000000000",
          "2024-03-26T00:00:00.000000000",
          "2024-03-27T00:00:00.000000000",
          "2024-03-28T00:00:00.000000000",
          "2024-04-01T00:00:00.000000000",
          "2024-04-02T00:00:00.000000000",
          "2024-04-03T00:00:00.000000000",
          "2024-04-04T00:00:00.000000000",
          "2024-04-05T00:00:00.000000000",
          "2024-04-08T00:00:00.000000000",
          "2024-04-09T00:00:00.000000000",
          "2024-04-10T00:00:00.000000000",
          "2024-04-11T00:00:00.000000000",
          "2024-04-12T00:00:00.000000000",
          "2024-04-15T00:00:00.000000000",
          "2024-04-16T00:00:00.000000000",
          "2024-04-17T00:00:00.000000000",
          "2024-04-18T00:00:00.000000000",
          "2024-04-19T00:00:00.000000000",
          "2024-04-22T00:00:00.000000000",
          "2024-04-23T00:00:00.000000000",
          "2024-04-24T00:00:00.000000000",
          "2024-04-25T00:00:00.000000000",
          "2024-04-26T00:00:00.000000000",
          "2024-04-29T00:00:00.000000000",
          "2024-04-30T00:00:00.000000000",
          "2024-05-01T00:00:00.000000000",
          "2024-05-02T00:00:00.000000000",
          "2024-05-03T00:00:00.000000000",
          "2024-05-06T00:00:00.000000000",
          "2024-05-07T00:00:00.000000000",
          "2024-05-08T00:00:00.000000000",
          "2024-05-09T00:00:00.000000000",
          "2024-05-10T00:00:00.000000000",
          "2024-05-13T00:00:00.000000000",
          "2024-05-14T00:00:00.000000000",
          "2024-05-15T00:00:00.000000000",
          "2024-05-16T00:00:00.000000000",
          "2024-05-17T00:00:00.000000000",
          "2024-05-20T00:00:00.000000000",
          "2024-05-21T00:00:00.000000000",
          "2024-05-22T00:00:00.000000000",
          "2024-05-23T00:00:00.000000000",
          "2024-05-24T00:00:00.000000000",
          "2024-05-28T00:00:00.000000000",
          "2024-05-29T00:00:00.000000000",
          "2024-05-30T00:00:00.000000000",
          "2024-05-31T00:00:00.000000000",
          "2024-06-03T00:00:00.000000000",
          "2024-06-04T00:00:00.000000000",
          "2024-06-05T00:00:00.000000000",
          "2024-06-06T00:00:00.000000000",
          "2024-06-07T00:00:00.000000000",
          "2024-06-10T00:00:00.000000000",
          "2024-06-11T00:00:00.000000000",
          "2024-06-12T00:00:00.000000000",
          "2024-06-13T00:00:00.000000000",
          "2024-06-14T00:00:00.000000000",
          "2024-06-17T00:00:00.000000000",
          "2024-06-18T00:00:00.000000000",
          "2024-06-20T00:00:00.000000000",
          "2024-06-21T00:00:00.000000000",
          "2024-06-24T00:00:00.000000000",
          "2024-06-25T00:00:00.000000000",
          "2024-06-26T00:00:00.000000000",
          "2024-06-27T00:00:00.000000000",
          "2024-06-28T00:00:00.000000000"
         ]
        },
        {
         "line": {
          "color": "orange"
         },
         "mode": "lines",
         "name": "50-Day SMA",
         "type": "scatter",
         "x": [
          "2023-07-03T00:00:00.000000000",
          "2023-07-05T00:00:00.000000000",
          "2023-07-06T00:00:00.000000000",
          "2023-07-07T00:00:00.000000000",
          "2023-07-10T00:00:00.000000000",
          "2023-07-11T00:00:00.000000000",
          "2023-07-12T00:00:00.000000000",
          "2023-07-13T00:00:00.000000000",
          "2023-07-14T00:00:00.000000000",
          "2023-07-17T00:00:00.000000000",
          "2023-07-18T00:00:00.000000000",
          "2023-07-19T00:00:00.000000000",
          "2023-07-20T00:00:00.000000000",
          "2023-07-21T00:00:00.000000000",
          "2023-07-24T00:00:00.000000000",
          "2023-07-25T00:00:00.000000000",
          "2023-07-26T00:00:00.000000000",
          "2023-07-27T00:00:00.000000000",
          "2023-07-28T00:00:00.000000000",
          "2023-07-31T00:00:00.000000000",
          "2023-08-01T00:00:00.000000000",
          "2023-08-02T00:00:00.000000000",
          "2023-08-03T00:00:00.000000000",
          "2023-08-04T00:00:00.000000000",
          "2023-08-07T00:00:00.000000000",
          "2023-08-08T00:00:00.000000000",
          "2023-08-09T00:00:00.000000000",
          "2023-08-10T00:00:00.000000000",
          "2023-08-11T00:00:00.000000000",
          "2023-08-14T00:00:00.000000000",
          "2023-08-15T00:00:00.000000000",
          "2023-08-16T00:00:00.000000000",
          "2023-08-17T00:00:00.000000000",
          "2023-08-18T00:00:00.000000000",
          "2023-08-21T00:00:00.000000000",
          "2023-08-22T00:00:00.000000000",
          "2023-08-23T00:00:00.000000000",
          "2023-08-24T00:00:00.000000000",
          "2023-08-25T00:00:00.000000000",
          "2023-08-28T00:00:00.000000000",
          "2023-08-29T00:00:00.000000000",
          "2023-08-30T00:00:00.000000000",
          "2023-08-31T00:00:00.000000000",
          "2023-09-01T00:00:00.000000000",
          "2023-09-05T00:00:00.000000000",
          "2023-09-06T00:00:00.000000000",
          "2023-09-07T00:00:00.000000000",
          "2023-09-08T00:00:00.000000000",
          "2023-09-11T00:00:00.000000000",
          "2023-09-12T00:00:00.000000000",
          "2023-09-13T00:00:00.000000000",
          "2023-09-14T00:00:00.000000000",
          "2023-09-15T00:00:00.000000000",
          "2023-09-18T00:00:00.000000000",
          "2023-09-19T00:00:00.000000000",
          "2023-09-20T00:00:00.000000000",
          "2023-09-21T00:00:00.000000000",
          "2023-09-22T00:00:00.000000000",
          "2023-09-25T00:00:00.000000000",
          "2023-09-26T00:00:00.000000000",
          "2023-09-27T00:00:00.000000000",
          "2023-09-28T00:00:00.000000000",
          "2023-09-29T00:00:00.000000000",
          "2023-10-02T00:00:00.000000000",
          "2023-10-03T00:00:00.000000000",
          "2023-10-04T00:00:00.000000000",
          "2023-10-05T00:00:00.000000000",
          "2023-10-06T00:00:00.000000000",
          "2023-10-09T00:00:00.000000000",
          "2023-10-10T00:00:00.000000000",
          "2023-10-11T00:00:00.000000000",
          "2023-10-12T00:00:00.000000000",
          "2023-10-13T00:00:00.000000000",
          "2023-10-16T00:00:00.000000000",
          "2023-10-17T00:00:00.000000000",
          "2023-10-18T00:00:00.000000000",
          "2023-10-19T00:00:00.000000000",
          "2023-10-20T00:00:00.000000000",
          "2023-10-23T00:00:00.000000000",
          "2023-10-24T00:00:00.000000000",
          "2023-10-25T00:00:00.000000000",
          "2023-10-26T00:00:00.000000000",
          "2023-10-27T00:00:00.000000000",
          "2023-10-30T00:00:00.000000000",
          "2023-10-31T00:00:00.000000000",
          "2023-11-01T00:00:00.000000000",
          "2023-11-02T00:00:00.000000000",
          "2023-11-03T00:00:00.000000000",
          "2023-11-06T00:00:00.000000000",
          "2023-11-07T00:00:00.000000000",
          "2023-11-08T00:00:00.000000000",
          "2023-11-09T00:00:00.000000000",
          "2023-11-10T00:00:00.000000000",
          "2023-11-13T00:00:00.000000000",
          "2023-11-14T00:00:00.000000000",
          "2023-11-15T00:00:00.000000000",
          "2023-11-16T00:00:00.000000000",
          "2023-11-17T00:00:00.000000000",
          "2023-11-20T00:00:00.000000000",
          "2023-11-21T00:00:00.000000000",
          "2023-11-22T00:00:00.000000000",
          "2023-11-24T00:00:00.000000000",
          "2023-11-27T00:00:00.000000000",
          "2023-11-28T00:00:00.000000000",
          "2023-11-29T00:00:00.000000000",
          "2023-11-30T00:00:00.000000000",
          "2023-12-01T00:00:00.000000000",
          "2023-12-04T00:00:00.000000000",
          "2023-12-05T00:00:00.000000000",
          "2023-12-06T00:00:00.000000000",
          "2023-12-07T00:00:00.000000000",
          "2023-12-08T00:00:00.000000000",
          "2023-12-11T00:00:00.000000000",
          "2023-12-12T00:00:00.000000000",
          "2023-12-13T00:00:00.000000000",
          "2023-12-14T00:00:00.000000000",
          "2023-12-15T00:00:00.000000000",
          "2023-12-18T00:00:00.000000000",
          "2023-12-19T00:00:00.000000000",
          "2023-12-20T00:00:00.000000000",
          "2023-12-21T00:00:00.000000000",
          "2023-12-22T00:00:00.000000000",
          "2023-12-26T00:00:00.000000000",
          "2023-12-27T00:00:00.000000000",
          "2023-12-28T00:00:00.000000000",
          "2023-12-29T00:00:00.000000000",
          "2024-01-02T00:00:00.000000000",
          "2024-01-03T00:00:00.000000000",
          "2024-01-04T00:00:00.000000000",
          "2024-01-05T00:00:00.000000000",
          "2024-01-08T00:00:00.000000000",
          "2024-01-09T00:00:00.000000000",
          "2024-01-10T00:00:00.000000000",
          "2024-01-11T00:00:00.000000000",
          "2024-01-12T00:00:00.000000000",
          "2024-01-16T00:00:00.000000000",
          "2024-01-17T00:00:00.000000000",
          "2024-01-18T00:00:00.000000000",
          "2024-01-19T00:00:00.000000000",
          "2024-01-22T00:00:00.000000000",
          "2024-01-23T00:00:00.000000000",
          "2024-01-24T00:00:00.000000000",
          "2024-01-25T00:00:00.000000000",
          "2024-01-26T00:00:00.000000000",
          "2024-01-29T00:00:00.000000000",
          "2024-01-30T00:00:00.000000000",
          "2024-01-31T00:00:00.000000000",
          "2024-02-01T00:00:00.000000000",
          "2024-02-02T00:00:00.000000000",
          "2024-02-05T00:00:00.000000000",
          "2024-02-06T00:00:00.000000000",
          "2024-02-07T00:00:00.000000000",
          "2024-02-08T00:00:00.000000000",
          "2024-02-09T00:00:00.000000000",
          "2024-02-12T00:00:00.000000000",
          "2024-02-13T00:00:00.000000000",
          "2024-02-14T00:00:00.000000000",
          "2024-02-15T00:00:00.000000000",
          "2024-02-16T00:00:00.000000000",
          "2024-02-20T00:00:00.000000000",
          "2024-02-21T00:00:00.000000000",
          "2024-02-22T00:00:00.000000000",
          "2024-02-23T00:00:00.000000000",
          "2024-02-26T00:00:00.000000000",
          "2024-02-27T00:00:00.000000000",
          "2024-02-28T00:00:00.000000000",
          "2024-02-29T00:00:00.000000000",
          "2024-03-01T00:00:00.000000000",
          "2024-03-04T00:00:00.000000000",
          "2024-03-05T00:00:00.000000000",
          "2024-03-06T00:00:00.000000000",
          "2024-03-07T00:00:00.000000000",
          "2024-03-08T00:00:00.000000000",
          "2024-03-11T00:00:00.000000000",
          "2024-03-12T00:00:00.000000000",
          "2024-03-13T00:00:00.000000000",
          "2024-03-14T00:00:00.000000000",
          "2024-03-15T00:00:00.000000000",
          "2024-03-18T00:00:00.000000000",
          "2024-03-19T00:00:00.000000000",
          "2024-03-20T00:00:00.000000000",
          "2024-03-21T00:00:00.000000000",
          "2024-03-22T00:00:00.000000000",
          "2024-03-25T00:00:00.000000000",
          "2024-03-26T00:00:00.000000000",
          "2024-03-27T00:00:00.000000000",
          "2024-03-28T00:00:00.000000000",
          "2024-04-01T00:00:00.000000000",
          "2024-04-02T00:00:00.000000000",
          "2024-04-03T00:00:00.000000000",
          "2024-04-04T00:00:00.000000000",
          "2024-04-05T00:00:00.000000000",
          "2024-04-08T00:00:00.000000000",
          "2024-04-09T00:00:00.000000000",
          "2024-04-10T00:00:00.000000000",
          "2024-04-11T00:00:00.000000000",
          "2024-04-12T00:00:00.000000000",
          "2024-04-15T00:00:00.000000000",
          "2024-04-16T00:00:00.000000000",
          "2024-04-17T00:00:00.000000000",
          "2024-04-18T00:00:00.000000000",
          "2024-04-19T00:00:00.000000000",
          "2024-04-22T00:00:00.000000000",
          "2024-04-23T00:00:00.000000000",
          "2024-04-24T00:00:00.000000000",
          "2024-04-25T00:00:00.000000000",
          "2024-04-26T00:00:00.000000000",
          "2024-04-29T00:00:00.000000000",
          "2024-04-30T00:00:00.000000000",
          "2024-05-01T00:00:00.000000000",
          "2024-05-02T00:00:00.000000000",
          "2024-05-03T00:00:00.000000000",
          "2024-05-06T00:00:00.000000000",
          "2024-05-07T00:00:00.000000000",
          "2024-05-08T00:00:00.000000000",
          "2024-05-09T00:00:00.000000000",
          "2024-05-10T00:00:00.000000000",
          "2024-05-13T00:00:00.000000000",
          "2024-05-14T00:00:00.000000000",
          "2024-05-15T00:00:00.000000000",
          "2024-05-16T00:00:00.000000000",
          "2024-05-17T00:00:00.000000000",
          "2024-05-20T00:00:00.000000000",
          "2024-05-21T00:00:00.000000000",
          "2024-05-22T00:00:00.000000000",
          "2024-05-23T00:00:00.000000000",
          "2024-05-24T00:00:00.000000000",
          "2024-05-28T00:00:00.000000000",
          "2024-05-29T00:00:00.000000000",
          "2024-05-30T00:00:00.000000000",
          "2024-05-31T00:00:00.000000000",
          "2024-06-03T00:00:00.000000000",
          "2024-06-04T00:00:00.000000000",
          "2024-06-05T00:00:00.000000000",
          "2024-06-06T00:00:00.000000000",
          "2024-06-07T00:00:00.000000000",
          "2024-06-10T00:00:00.000000000",
          "2024-06-11T00:00:00.000000000",
          "2024-06-12T00:00:00.000000000",
          "2024-06-13T00:00:00.000000000",
          "2024-06-14T00:00:00.000000000",
          "2024-06-17T00:00:00.000000000",
          "2024-06-18T00:00:00.000000000",
          "2024-06-20T00:00:00.000000000",
          "2024-06-21T00:00:00.000000000",
          "2024-06-24T00:00:00.000000000",
          "2024-06-25T00:00:00.000000000",
          "2024-06-26T00:00:00.000000000",
          "2024-06-27T00:00:00.000000000",
          "2024-06-28T00:00:00.000000000"
         ],
         "y": {
          "bdata": "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",
          "dtype": "f8"
         }
        },
        {
         "line": {
          "color": "green"
         },
         "mode": "lines",
         "name": "200-Day SMA",
         "type": "scatter",
         "x": [
          "2023-07-03T00:00:00.000000000",
          "2023-07-05T00:00:00.000000000",
          "2023-07-06T00:00:00.000000000",
          "2023-07-07T00:00:00.000000000",
          "2023-07-10T00:00:00.000000000",
          "2023-07-11T00:00:00.000000000",
          "2023-07-12T00:00:00.000000000",
          "2023-07-13T00:00:00.000000000",
          "2023-07-14T00:00:00.000000000",
          "2023-07-17T00:00:00.000000000",
          "2023-07-18T00:00:00.000000000",
          "2023-07-19T00:00:00.000000000",
          "2023-07-20T00:00:00.000000000",
          "2023-07-21T00:00:00.000000000",
          "2023-07-24T00:00:00.000000000",
          "2023-07-25T00:00:00.000000000",
          "2023-07-26T00:00:00.000000000",
          "2023-07-27T00:00:00.000000000",
          "2023-07-28T00:00:00.000000000",
          "2023-07-31T00:00:00.000000000",
          "2023-08-01T00:00:00.000000000",
          "2023-08-02T00:00:00.000000000",
          "2023-08-03T00:00:00.000000000",
          "2023-08-04T00:00:00.000000000",
          "2023-08-07T00:00:00.000000000",
          "2023-08-08T00:00:00.000000000",
          "2023-08-09T00:00:00.000000000",
          "2023-08-10T00:00:00.000000000",
          "2023-08-11T00:00:00.000000000",
          "2023-08-14T00:00:00.000000000",
          "2023-08-15T00:00:00.000000000",
          "2023-08-16T00:00:00.000000000",
          "2023-08-17T00:00:00.000000000",
          "2023-08-18T00:00:00.000000000",
          "2023-08-21T00:00:00.000000000",
          "2023-08-22T00:00:00.000000000",
          "2023-08-23T00:00:00.000000000",
          "2023-08-24T00:00:00.000000000",
          "2023-08-25T00:00:00.000000000",
          "2023-08-28T00:00:00.000000000",
          "2023-08-29T00:00:00.000000000",
          "2023-08-30T00:00:00.000000000",
          "2023-08-31T00:00:00.000000000",
          "2023-09-01T00:00:00.000000000",
          "2023-09-05T00:00:00.000000000",
          "2023-09-06T00:00:00.000000000",
          "2023-09-07T00:00:00.000000000",
          "2023-09-08T00:00:00.000000000",
          "2023-09-11T00:00:00.000000000",
          "2023-09-12T00:00:00.000000000",
          "2023-09-13T00:00:00.000000000",
          "2023-09-14T00:00:00.000000000",
          "2023-09-15T00:00:00.000000000",
          "2023-09-18T00:00:00.000000000",
          "2023-09-19T00:00:00.000000000",
          "2023-09-20T00:00:00.000000000",
          "2023-09-21T00:00:00.000000000",
          "2023-09-22T00:00:00.000000000",
          "2023-09-25T00:00:00.000000000",
          "2023-09-26T00:00:00.000000000",
          "2023-09-27T00:00:00.000000000",
          "2023-09-28T00:00:00.000000000",
          "2023-09-29T00:00:00.000000000",
          "2023-10-02T00:00:00.000000000",
          "2023-10-03T00:00:00.000000000",
          "2023-10-04T00:00:00.000000000",
          "2023-10-05T00:00:00.000000000",
          "2023-10-06T00:00:00.000000000",
          "2023-10-09T00:00:00.000000000",
          "2023-10-10T00:00:00.000000000",
          "2023-10-11T00:00:00.000000000",
          "2023-10-12T00:00:00.000000000",
          "2023-10-13T00:00:00.000000000",
          "2023-10-16T00:00:00.000000000",
          "2023-10-17T00:00:00.000000000",
          "2023-10-18T00:00:00.000000000",
          "2023-10-19T00:00:00.000000000",
          "2023-10-20T00:00:00.000000000",
          "2023-10-23T00:00:00.000000000",
          "2023-10-24T00:00:00.000000000",
          "2023-10-25T00:00:00.000000000",
          "2023-10-26T00:00:00.000000000",
          "2023-10-27T00:00:00.000000000",
          "2023-10-30T00:00:00.000000000",
          "2023-10-31T00:00:00.000000000",
          "2023-11-01T00:00:00.000000000",
          "2023-11-02T00:00:00.000000000",
          "2023-11-03T00:00:00.000000000",
          "2023-11-06T00:00:00.000000000",
          "2023-11-07T00:00:00.000000000",
          "2023-11-08T00:00:00.000000000",
          "2023-11-09T00:00:00.000000000",
          "2023-11-10T00:00:00.000000000",
          "2023-11-13T00:00:00.000000000",
          "2023-11-14T00:00:00.000000000",
          "2023-11-15T00:00:00.000000000",
          "2023-11-16T00:00:00.000000000",
          "2023-11-17T00:00:00.000000000",
          "2023-11-20T00:00:00.000000000",
          "2023-11-21T00:00:00.000000000",
          "2023-11-22T00:00:00.000000000",
          "2023-11-24T00:00:00.000000000",
          "2023-11-27T00:00:00.000000000",
          "2023-11-28T00:00:00.000000000",
          "2023-11-29T00:00:00.000000000",
          "2023-11-30T00:00:00.000000000",
          "2023-12-01T00:00:00.000000000",
          "2023-12-04T00:00:00.000000000",
          "2023-12-05T00:00:00.000000000",
          "2023-12-06T00:00:00.000000000",
          "2023-12-07T00:00:00.000000000",
          "2023-12-08T00:00:00.000000000",
          "2023-12-11T00:00:00.000000000",
          "2023-12-12T00:00:00.000000000",
          "2023-12-13T00:00:00.000000000",
          "2023-12-14T00:00:00.000000000",
          "2023-12-15T00:00:00.000000000",
          "2023-12-18T00:00:00.000000000",
          "2023-12-19T00:00:00.000000000",
          "2023-12-20T00:00:00.000000000",
          "2023-12-21T00:00:00.000000000",
          "2023-12-22T00:00:00.000000000",
          "2023-12-26T00:00:00.000000000",
          "2023-12-27T00:00:00.000000000",
          "2023-12-28T00:00:00.000000000",
          "2023-12-29T00:00:00.000000000",
          "2024-01-02T00:00:00.000000000",
          "2024-01-03T00:00:00.000000000",
          "2024-01-04T00:00:00.000000000",
          "2024-01-05T00:00:00.000000000",
          "2024-01-08T00:00:00.000000000",
          "2024-01-09T00:00:00.000000000",
          "2024-01-10T00:00:00.000000000",
          "2024-01-11T00:00:00.000000000",
          "2024-01-12T00:00:00.000000000",
          "2024-01-16T00:00:00.000000000",
          "2024-01-17T00:00:00.000000000",
          "2024-01-18T00:00:00.000000000",
          "2024-01-19T00:00:00.000000000",
          "2024-01-22T00:00:00.000000000",
          "2024-01-23T00:00:00.000000000",
          "2024-01-24T00:00:00.000000000",
          "2024-01-25T00:00:00.000000000",
          "2024-01-26T00:00:00.000000000",
          "2024-01-29T00:00:00.000000000",
          "2024-01-30T00:00:00.000000000",
          "2024-01-31T00:00:00.000000000",
          "2024-02-01T00:00:00.000000000",
          "2024-02-02T00:00:00.000000000",
          "2024-02-05T00:00:00.000000000",
          "2024-02-06T00:00:00.000000000",
          "2024-02-07T00:00:00.000000000",
          "2024-02-08T00:00:00.000000000",
          "2024-02-09T00:00:00.000000000",
          "2024-02-12T00:00:00.000000000",
          "2024-02-13T00:00:00.000000000",
          "2024-02-14T00:00:00.000000000",
          "2024-02-15T00:00:00.000000000",
          "2024-02-16T00:00:00.000000000",
          "2024-02-20T00:00:00.000000000",
          "2024-02-21T00:00:00.000000000",
          "2024-02-22T00:00:00.000000000",
          "2024-02-23T00:00:00.000000000",
          "2024-02-26T00:00:00.000000000",
          "2024-02-27T00:00:00.000000000",
          "2024-02-28T00:00:00.000000000",
          "2024-02-29T00:00:00.000000000",
          "2024-03-01T00:00:00.000000000",
          "2024-03-04T00:00:00.000000000",
          "2024-03-05T00:00:00.000000000",
          "2024-03-06T00:00:00.000000000",
          "2024-03-07T00:00:00.000000000",
          "2024-03-08T00:00:00.000000000",
          "2024-03-11T00:00:00.000000000",
          "2024-03-12T00:00:00.000000000",
          "2024-03-13T00:00:00.000000000",
          "2024-03-14T00:00:00.000000000",
          "2024-03-15T00:00:00.000000000",
          "2024-03-18T00:00:00.000000000",
          "2024-03-19T00:00:00.000000000",
          "2024-03-20T00:00:00.000000000",
          "2024-03-21T00:00:00.000000000",
          "2024-03-22T00:00:00.000000000",
          "2024-03-25T00:00:00.000000000",
          "2024-03-26T00:00:00.000000000",
          "2024-03-27T00:00:00.000000000",
          "2024-03-28T00:00:00.000000000",
          "2024-04-01T00:00:00.000000000",
          "2024-04-02T00:00:00.000000000",
          "2024-04-03T00:00:00.000000000",
          "2024-04-04T00:00:00.000000000",
          "2024-04-05T00:00:00.000000000",
          "2024-04-08T00:00:00.000000000",
          "2024-04-09T00:00:00.000000000",
          "2024-04-10T00:00:00.000000000",
          "2024-04-11T00:00:00.000000000",
          "2024-04-12T00:00:00.000000000",
          "2024-04-15T00:00:00.000000000",
          "2024-04-16T00:00:00.000000000",
          "2024-04-17T00:00:00.000000000",
          "2024-04-18T00:00:00.000000000",
          "2024-04-19T00:00:00.000000000",
          "2024-04-22T00:00:00.000000000",
          "2024-04-23T00:00:00.000000000",
          "2024-04-24T00:00:00.000000000",
          "2024-04-25T00:00:00.000000000",
          "2024-04-26T00:00:00.000000000",
          "2024-04-29T00:00:00.000000000",
          "2024-04-30T00:00:00.000000000",
          "2024-05-01T00:00:00.000000000",
          "2024-05-02T00:00:00.000000000",
          "2024-05-03T00:00:00.000000000",
          "2024-05-06T00:00:00.000000000",
          "2024-05-07T00:00:00.000000000",
          "2024-05-08T00:00:00.000000000",
          "2024-05-09T00:00:00.000000000",
          "2024-05-10T00:00:00.000000000",
          "2024-05-13T00:00:00.000000000",
          "2024-05-14T00:00:00.000000000",
          "2024-05-15T00:00:00.000000000",
          "2024-05-16T00:00:00.000000000",
          "2024-05-17T00:00:00.000000000",
          "2024-05-20T00:00:00.000000000",
          "2024-05-21T00:00:00.000000000",
          "2024-05-22T00:00:00.000000000",
          "2024-05-23T00:00:00.000000000",
          "2024-05-24T00:00:00.000000000",
          "2024-05-28T00:00:00.000000000",
          "2024-05-29T00:00:00.000000000",
          "2024-05-30T00:00:00.000000000",
          "2024-05-31T00:00:00.000000000",
          "2024-06-03T00:00:00.000000000",
          "2024-06-04T00:00:00.000000000",
          "2024-06-05T00:00:00.000000000",
          "2024-06-06T00:00:00.000000000",
          "2024-06-07T00:00:00.000000000",
          "2024-06-10T00:00:00.000000000",
          "2024-06-11T00:00:00.000000000",
          "2024-06-12T00:00:00.000000000",
          "2024-06-13T00:00:00.000000000",
          "2024-06-14T00:00:00.000000000",
          "2024-06-17T00:00:00.000000000",
          "2024-06-18T00:00:00.000000000",
          "2024-06-20T00:00:00.000000000",
          "2024-06-21T00:00:00.000000000",
          "2024-06-24T00:00:00.000000000",
          "2024-06-25T00:00:00.000000000",
          "2024-06-26T00:00:00.000000000",
          "2024-06-27T00:00:00.000000000",
          "2024-06-28T00:00:00.000000000"
         ],
         "y": {
          "bdata": "AAAAAAAA+H8AAAAAAAD4fwAAAAAAAPh/AAAAAAAA+H8AAAAAAAD4fwAAAAAAAPh/AAAAAAAA+H8AAAAAAAD4fwAAAAAAAPh/AAAAAAAA+H8AAAAAAAD4fwAAAAAAAPh/AAAAAAAA+H8AAAAAAAD4fwAAAAAAAPh/AAAAAAAA+H8AAAAAAAD4fwAAAAAAAPh/AAAAAAAA+H8AAAAAAAD4fwAAAAAAAPh/AAAAAAAA+H8AAAAAAAD4fwAAAAAAAPh/AAAAAAAA+H8AAAAAAAD4fwAAAAAAAPh/AAAAAAAA+H8AAAAAAAD4fwAAAAAAAPh/AAAAAAAA+H8AAAAAAAD4fwAAAAAAAPh/AAAAAAAA+H8AAAAAAAD4fwAAAAAAAPh/AAAAAAAA+H8AAAAAAAD4fwAAAAAAAPh/AAAAAAAA+H8AAAAAAAD4fwAAAAAAAPh/AAAAAAAA+H8AAAAAAAD4fwAAAAAAAPh/AAAAAAAA+H8AAAAAAAD4fwAAAAAAAPh/AAAAAAAA+H8AAAAAAAD4fwAAAAAAAPh/AAAAAAAA+H8AAAAAAAD4fwAAAAAAAPh/AAAAAAAA+H8AAAAAAAD4fwAAAAAAAPh/AAAAAAAA+H8AAAAAAAD4fwAAAAAAAPh/AAAAAAAA+H8AAAAAAAD4fwAAAAAAAPh/AAAAAAAA+H8AAAAAAAD4fwAAAAAAAPh/AAAAAAAA+H8AAAAAAAD4fwAAAAAAAPh/AAAAAAAA+H8AAAAAAAD4fwAAAAAAAPh/AAAAAAAA+H8AAAAAAAD4fwAAAAAAAPh/AAAAAAAA+H8AAAAAAAD4fwAAAAAAAPh/AAAAAAAA+H8AAAAAAAD4fwAAAAAAAPh/AAAAAAAA+H8AAAAAAAD4fwAAAAAAAPh/AAAAAAAA+H8AAAAAAAD4fwAAAAAAAPh/AAAAAAAA+H8AAAAAAAD4fwAAAAAAAPh/AAAAAAAA+H8AAAAAAAD4fwAAAAAAAPh/AAAAAAAA+H8AAAAAAAD4fwAAAAAAAPh/AAAAAAAA+H8AAAAAAAD4fwAAAAAAAPh/AAAAAAAA+H8AAAAAAAD4fwAAAAAAAPh/AAAAAAAA+H8AAAAAAAD4fwAAAAAAAPh/AAAAAAAA+H8AAAAAAAD4fwAAAAAAAPh/AAAAAAAA+H8AAAAAAAD4fwAAAAAAAPh/AAAAAAAA+H8AAAAAAAD4fwAAAAAAAPh/AAAAAAAA+H8AAAAAAAD4fwAAAAAAAPh/AAAAAAAA+H8AAAAAAAD4fwAAAAAAAPh/AAAAAAAA+H8AAAAAAAD4fwAAAAAAAPh/AAAAAAAA+H8AAAAAAAD4fwAAAAAAAPh/AAAAAAAA+H8AAAAAAAD4fwAAAAAAAPh/AAAAAAAA+H8AAAAAAAD4fwAAAAAAAPh/AAAAAAAA+H8AAAAAAAD4fwAAAAAAAPh/AAAAAAAA+H8AAAAAAAD4fwAAAAAAAPh/AAAAAAAA+H8AAAAAAAD4fwAAAAAAAPh/AAAAAAAA+H8AAAAAAAD4fwAAAAAAAPh/AAAAAAAA+H8AAAAAAAD4fwAAAAAAAPh/AAAAAAAA+H8AAAAAAAD4fwAAAAAAAPh/AAAAAAAA+H8AAAAAAAD4fwAAAAAAAPh/AAAAAAAA+H8AAAAAAAD4fwAAAAAAAPh/AAAAAAAA+H8AAAAAAAD4fwAAAAAAAPh/AAAAAAAA+H8AAAAAAAD4fwAAAAAAAPh/AAAAAAAA+H8AAAAAAAD4fwAAAAAAAPh/AAAAAAAA+H8AAAAAAAD4fwAAAAAAAPh/AAAAAAAA+H8AAAAAAAD4fwAAAAAAAPh/AAAAAAAA+H8AAAAAAAD4fwAAAAAAAPh/AAAAAAAA+H8AAAAAAAD4fwAAAAAAAPh/AAAAAAAA+H8AAAAAAAD4fwAAAAAAAPh/AAAAAAAA+H8AAAAAAAD4fwAAAAAAAPh/AAAAAAAA+H8AAAAAAAD4fwAAAAAAAPh/AAAAAAAA+H8AAAAAAAD4fwAAAAAAAPh/AAAAAAAA+H8AAAAAAAD4fwAAAAAAAPh/AAAAAAAA+H8AAAAAAAD4fwAAAAAAAPh/AAAAAAAA+H8AAAAAAAD4fwAAAAAAAPh/AAAAAAAA+H89CtdPRqFmQGZmZi5anWZAXI/C0UiZZkDXo3AxRpVmQArXo4yckWZApHA9Kp2OZkCkcD2y1otmQDMzM6uziGZApHA9ahyGZkB7FK4D/oJmQFyPwtkvf2ZAPQrXFwR8ZkD2KFwrRnpmQM3MzCSUeGZAw/UoeC53ZkCkcD3KtXVmQB+F61VkdGZArkfhartyZkB7FK4XynFmQGZmZs6dcGZAj8L1vLVvZkAK16Og9G5mQClcj56vbmZApHA9ftNuZkAzMzMPoXBmQFK4HtmycmZAw/UoOPpzZkCF61FEAXZmQM3MzKQReGZAzczM0Ct6ZkAK16PwKnxmQLgehdOifmZAhetRBIeBZkApXI+e4IRmQClcj0pkiGZAj8L1eHiLZkBmZmZ2to5mQM3MzMi8kGZAmpmZlb+VZkCuR+EuWZtmQJqZmVHioGZAAAAAhISlZkB7FK7HQapmQIXrURSVrmZAFK5H3euxZkBmZmae37RmQK5H4ZoBuWZAPQrXwyK+ZkBcj8Ip1cNmQAAAAEx6yWZAzczM0A3PZkA=",
          "dtype": "f8"
         }
        },
        {
         "marker": {
          "color": "lightblue"
         },
         "name": "Volume",
         "type": "bar",
         "x": [
          "2023-07-03T00:00:00.000000000",
          "2023-07-05T00:00:00.000000000",
          "2023-07-06T00:00:00.000000000",
          "2023-07-07T00:00:00.000000000",
          "2023-07-10T00:00:00.000000000",
          "2023-07-11T00:00:00.000000000",
          "2023-07-12T00:00:00.000000000",
          "2023-07-13T00:00:00.000000000",
          "2023-07-14T00:00:00.000000000",
          "2023-07-17T00:00:00.000000000",
          "2023-07-18T00:00:00.000000000",
          "2023-07-19T00:00:00.000000000",
          "2023-07-20T00:00:00.000000000",
          "2023-07-21T00:00:00.000000000",
          "2023-07-24T00:00:00.000000000",
          "2023-07-25T00:00:00.000000000",
          "2023-07-26T00:00:00.000000000",
          "2023-07-27T00:00:00.000000000",
          "2023-07-28T00:00:00.000000000",
          "2023-07-31T00:00:00.000000000",
          "2023-08-01T00:00:00.000000000",
          "2023-08-02T00:00:00.000000000",
          "2023-08-03T00:00:00.000000000",
          "2023-08-04T00:00:00.000000000",
          "2023-08-07T00:00:00.000000000",
          "2023-08-08T00:00:00.000000000",
          "2023-08-09T00:00:00.000000000",
          "2023-08-10T00:00:00.000000000",
          "2023-08-11T00:00:00.000000000",
          "2023-08-14T00:00:00.000000000",
          "2023-08-15T00:00:00.000000000",
          "2023-08-16T00:00:00.000000000",
          "2023-08-17T00:00:00.000000000",
          "2023-08-18T00:00:00.000000000",
          "2023-08-21T00:00:00.000000000",
          "2023-08-22T00:00:00.000000000",
          "2023-08-23T00:00:00.000000000",
          "2023-08-24T00:00:00.000000000",
          "2023-08-25T00:00:00.000000000",
          "2023-08-28T00:00:00.000000000",
          "2023-08-29T00:00:00.000000000",
          "2023-08-30T00:00:00.000000000",
          "2023-08-31T00:00:00.000000000",
          "2023-09-01T00:00:00.000000000",
          "2023-09-05T00:00:00.000000000",
          "2023-09-06T00:00:00.000000000",
          "2023-09-07T00:00:00.000000000",
          "2023-09-08T00:00:00.000000000",
          "2023-09-11T00:00:00.000000000",
          "2023-09-12T00:00:00.000000000",
          "2023-09-13T00:00:00.000000000",
          "2023-09-14T00:00:00.000000000",
          "2023-09-15T00:00:00.000000000",
          "2023-09-18T00:00:00.000000000",
          "2023-09-19T00:00:00.000000000",
          "2023-09-20T00:00:00.000000000",
          "2023-09-21T00:00:00.000000000",
          "2023-09-22T00:00:00.000000000",
          "2023-09-25T00:00:00.000000000",
          "2023-09-26T00:00:00.000000000",
          "2023-09-27T00:00:00.000000000",
          "2023-09-28T00:00:00.000000000",
          "2023-09-29T00:00:00.000000000",
          "2023-10-02T00:00:00.000000000",
          "2023-10-03T00:00:00.000000000",
          "2023-10-04T00:00:00.000000000",
          "2023-10-05T00:00:00.000000000",
          "2023-10-06T00:00:00.000000000",
          "2023-10-09T00:00:00.000000000",
          "2023-10-10T00:00:00.000000000",
          "2023-10-11T00:00:00.000000000",
          "2023-10-12T00:00:00.000000000",
          "2023-10-13T00:00:00.000000000",
          "2023-10-16T00:00:00.000000000",
          "2023-10-17T00:00:00.000000000",
          "2023-10-18T00:00:00.000000000",
          "2023-10-19T00:00:00.000000000",
          "2023-10-20T00:00:00.000000000",
          "2023-10-23T00:00:00.000000000",
          "2023-10-24T00:00:00.000000000",
          "2023-10-25T00:00:00.000000000",
          "2023-10-26T00:00:00.000000000",
          "2023-10-27T00:00:00.000000000",
          "2023-10-30T00:00:00.000000000",
          "2023-10-31T00:00:00.000000000",
          "2023-11-01T00:00:00.000000000",
          "2023-11-02T00:00:00.000000000",
          "2023-11-03T00:00:00.000000000",
          "2023-11-06T00:00:00.000000000",
          "2023-11-07T00:00:00.000000000",
          "2023-11-08T00:00:00.000000000",
          "2023-11-09T00:00:00.000000000",
          "2023-11-10T00:00:00.000000000",
          "2023-11-13T00:00:00.000000000",
          "2023-11-14T00:00:00.000000000",
          "2023-11-15T00:00:00.000000000",
          "2023-11-16T00:00:00.000000000",
          "2023-11-17T00:00:00.000000000",
          "2023-11-20T00:00:00.000000000",
          "2023-11-21T00:00:00.000000000",
          "2023-11-22T00:00:00.000000000",
          "2023-11-24T00:00:00.000000000",
          "2023-11-27T00:00:00.000000000",
          "2023-11-28T00:00:00.000000000",
          "2023-11-29T00:00:00.000000000",
          "2023-11-30T00:00:00.000000000",
          "2023-12-01T00:00:00.000000000",
          "2023-12-04T00:00:00.000000000",
          "2023-12-05T00:00:00.000000000",
          "2023-12-06T00:00:00.000000000",
          "2023-12-07T00:00:00.000000000",
          "2023-12-08T00:00:00.000000000",
          "2023-12-11T00:00:00.000000000",
          "2023-12-12T00:00:00.000000000",
          "2023-12-13T00:00:00.000000000",
          "2023-12-14T00:00:00.000000000",
          "2023-12-15T00:00:00.000000000",
          "2023-12-18T00:00:00.000000000",
          "2023-12-19T00:00:00.000000000",
          "2023-12-20T00:00:00.000000000",
          "2023-12-21T00:00:00.000000000",
          "2023-12-22T00:00:00.000000000",
          "2023-12-26T00:00:00.000000000",
          "2023-12-27T00:00:00.000000000",
          "2023-12-28T00:00:00.000000000",
          "2023-12-29T00:00:00.000000000",
          "2024-01-02T00:00:00.000000000",
          "2024-01-03T00:00:00.000000000",
          "2024-01-04T00:00:00.000000000",
          "2024-01-05T00:00:00.000000000",
          "2024-01-08T00:00:00.000000000",
          "2024-01-09T00:00:00.000000000",
          "2024-01-10T00:00:00.000000000",
          "2024-01-11T00:00:00.000000000",
          "2024-01-12T00:00:00.000000000",
          "2024-01-16T00:00:00.000000000",
          "2024-01-17T00:00:00.000000000",
          "2024-01-18T00:00:00.000000000",
          "2024-01-19T00:00:00.000000000",
          "2024-01-22T00:00:00.000000000",
          "2024-01-23T00:00:00.000000000",
          "2024-01-24T00:00:00.000000000",
          "2024-01-25T00:00:00.000000000",
          "2024-01-26T00:00:00.000000000",
          "2024-01-29T00:00:00.000000000",
          "2024-01-30T00:00:00.000000000",
          "2024-01-31T00:00:00.000000000",
          "2024-02-01T00:00:00.000000000",
          "2024-02-02T00:00:00.000000000",
          "2024-02-05T00:00:00.000000000",
          "2024-02-06T00:00:00.000000000",
          "2024-02-07T00:00:00.000000000",
          "2024-02-08T00:00:00.000000000",
          "2024-02-09T00:00:00.000000000",
          "2024-02-12T00:00:00.000000000",
          "2024-02-13T00:00:00.000000000",
          "2024-02-14T00:00:00.000000000",
          "2024-02-15T00:00:00.000000000",
          "2024-02-16T00:00:00.000000000",
          "2024-02-20T00:00:00.000000000",
          "2024-02-21T00:00:00.000000000",
          "2024-02-22T00:00:00.000000000",
          "2024-02-23T00:00:00.000000000",
          "2024-02-26T00:00:00.000000000",
          "2024-02-27T00:00:00.000000000",
          "2024-02-28T00:00:00.000000000",
          "2024-02-29T00:00:00.000000000",
          "2024-03-01T00:00:00.000000000",
          "2024-03-04T00:00:00.000000000",
          "2024-03-05T00:00:00.000000000",
          "2024-03-06T00:00:00.000000000",
          "2024-03-07T00:00:00.000000000",
          "2024-03-08T00:00:00.000000000",
          "2024-03-11T00:00:00.000000000",
          "2024-03-12T00:00:00.000000000",
          "2024-03-13T00:00:00.000000000",
          "2024-03-14T00:00:00.000000000",
          "2024-03-15T00:00:00.000000000",
          "2024-03-18T00:00:00.000000000",
          "2024-03-19T00:00:00.000000000",
          "2024-03-20T00:00:00.000000000",
          "2024-03-21T00:00:00.000000000",
          "2024-03-22T00:00:00.000000000",
          "2024-03-25T00:00:00.000000000",
          "2024-03-26T00:00:00.000000000",
          "2024-03-27T00:00:00.000000000",
          "2024-03-28T00:00:00.000000000",
          "2024-04-01T00:00:00.000000000",
          "2024-04-02T00:00:00.000000000",
          "2024-04-03T00:00:00.000000000",
          "2024-04-04T00:00:00.000000000",
          "2024-04-05T00:00:00.000000000",
          "2024-04-08T00:00:00.000000000",
          "2024-04-09T00:00:00.000000000",
          "2024-04-10T00:00:00.000000000",
          "2024-04-11T00:00:00.000000000",
          "2024-04-12T00:00:00.000000000",
          "2024-04-15T00:00:00.000000000",
          "2024-04-16T00:00:00.000000000",
          "2024-04-17T00:00:00.000000000",
          "2024-04-18T00:00:00.000000000",
          "2024-04-19T00:00:00.000000000",
          "2024-04-22T00:00:00.000000000",
          "2024-04-23T00:00:00.000000000",
          "2024-04-24T00:00:00.000000000",
          "2024-04-25T00:00:00.000000000",
          "2024-04-26T00:00:00.000000000",
          "2024-04-29T00:00:00.000000000",
          "2024-04-30T00:00:00.000000000",
          "2024-05-01T00:00:00.000000000",
          "2024-05-02T00:00:00.000000000",
          "2024-05-03T00:00:00.000000000",
          "2024-05-06T00:00:00.000000000",
          "2024-05-07T00:00:00.000000000",
          "2024-05-08T00:00:00.000000000",
          "2024-05-09T00:00:00.000000000",
          "2024-05-10T00:00:00.000000000",
          "2024-05-13T00:00:00.000000000",
          "2024-05-14T00:00:00.000000000",
          "2024-05-15T00:00:00.000000000",
          "2024-05-16T00:00:00.000000000",
          "2024-05-17T00:00:00.000000000",
          "2024-05-20T00:00:00.000000000",
          "2024-05-21T00:00:00.000000000",
          "2024-05-22T00:00:00.000000000",
          "2024-05-23T00:00:00.000000000",
          "2024-05-24T00:00:00.000000000",
          "2024-05-28T00:00:00.000000000",
          "2024-05-29T00:00:00.000000000",
          "2024-05-30T00:00:00.000000000",
          "2024-05-31T00:00:00.000000000",
          "2024-06-03T00:00:00.000000000",
          "2024-06-04T00:00:00.000000000",
          "2024-06-05T00:00:00.000000000",
          "2024-06-06T00:00:00.000000000",
          "2024-06-07T00:00:00.000000000",
          "2024-06-10T00:00:00.000000000",
          "2024-06-11T00:00:00.000000000",
          "2024-06-12T00:00:00.000000000",
          "2024-06-13T00:00:00.000000000",
          "2024-06-14T00:00:00.000000000",
          "2024-06-17T00:00:00.000000000",
          "2024-06-18T00:00:00.000000000",
          "2024-06-20T00:00:00.000000000",
          "2024-06-21T00:00:00.000000000",
          "2024-06-24T00:00:00.000000000",
          "2024-06-25T00:00:00.000000000",
          "2024-06-26T00:00:00.000000000",
          "2024-06-27T00:00:00.000000000",
          "2024-06-28T00:00:00.000000000"
         ],
         "y": {
          "bdata": "mAPgAWzyywKcFbACGFfKAhhXkgMUpMcCePmeA1zVdgJIA3sCiOACA8jR4AKkccwEECONA1TlSQQIabQCgOU4Ahxd1AJoL9QCSN7gAqRoUAK8uhgCNOEAAwBgpgNAXOkGpOTQBZjlCgSETZkDtHRCA1wEGgPQb5oCyKCZAqSgzAI0CvAD6GmlA9ypwgJ0doECcHwkAwhoRgMADxEDnKacAnzGKANM8p8DhKafA2RXugIA67ICmH7fBGBxtAbEO+gDjI2DA5jwYgV80wUFODKhA+wqgwYARQIE1NAWA2iqewMslMMDmI9hAxyKwAJkjNkDSCX9AwD8WgNsVhcDlPcbA+jA9AKMBikDHHrkAgzSaQMQ1YYCUMeaAnyS1QK81GEDHLcQA4hYIQNYIm4DcKNDA/TjiAMgSdQDRDBWA5iWnAKIJWgDFKg1BBygfAN4MgwDsEusAvTBZAMQCZwE0BjCBBQkzgPQMzQEjN/wAqxdNAOYHfED7LOZAnAulQMkxzQDZEY+A8wECQOMnMUC5OJFAqSEXAKs8m4BmMhqAigsSgI4WJACIIvoAmBmuQI8EpYCMKv4A6T6cgLEc9QCwOouA1TtoQNEFyQDaEgyBPDE+wMgV6kH3LRSA3Q/bQJwKR0DRETFAqDbNgIERrkBlMLdAmyPBwLkH4sCfK3qBKRVewPwYUoEtNa3AzR5hgPIto0CxADKAtCj7QJopGkCuAXpA5gB0gIoRqYEWGAbBAySlQOQS4YCRFkyA9SERANQc6gCgGLPAshYVAMYX04DmBLeA5TQHAbADycE8J2XAhhqLwPQB3ECgAOxAoyKfQJckl4DZJhBA4Rz5gO0KfcCQN8yAwhHdwJo6h0D1HiwAkiWbwI01zwDLPrqAmicJQjce2IE1L7bBPCaqwW0kBYEbAxHBPi9iwTsp5UD+NyQA/zpIANcklgEfMxBB+iggQRghEoD/CsvA7QyVAYk0T0ErF88A3CtawOUspcD/BXqA/SSwQJctfACtLfXAtB2MwPgd4ICXBE7AqiShgL0gPYCXJ9tBfRfDwaYAWIEYL5kBNCwCAPUAJICmOAPBLAy3gII4/MCmEPgAlx1AwMALqwCuC4QBNAV7gP8yAAD9JqdBSSaugnk4K4EyJebBEyErwLYa+sCTIcGAwBRSwSAdh8DADgyBJBaJgNU7XUCVOakAhiXhQK0sRACzEkKA1hOKgIkux0D4MApA0w/+QIc03oE9Cr8Aihb1AIAXjoDaGJ0AhxNKgMYQsgFNDVGChxKzwssRNUFzPwtBCwulgWE1sMEVOMiBSynaQ7Yy88EBJ9PA1BV8gOcePcCbIDrBA==",
          "dtype": "i4",
          "shape": "250, 1"
         },
         "yaxis": "y2"
        }
       ],
       "layout": {
        "height": 600,
        "template": {
         "data": {
          "bar": [
           {
            "error_x": {
             "color": "#2a3f5f"
            },
            "error_y": {
             "color": "#2a3f5f"
            },
            "marker": {
             "line": {
              "color": "#E5ECF6",
              "width": 0.5
             },
             "pattern": {
              "fillmode": "overlay",
              "size": 10,
              "solidity": 0.2
             }
            },
            "type": "bar"
           }
          ],
          "barpolar": [
           {
            "marker": {
             "line": {
              "color": "#E5ECF6",
              "width": 0.5
             },
             "pattern": {
              "fillmode": "overlay",
              "size": 10,
              "solidity": 0.2
             }
            },
            "type": "barpolar"
           }
          ],
          "carpet": [
           {
            "aaxis": {
             "endlinecolor": "#2a3f5f",
             "gridcolor": "white",
             "linecolor": "white",
             "minorgridcolor": "white",
             "startlinecolor": "#2a3f5f"
            },
            "baxis": {
             "endlinecolor": "#2a3f5f",
             "gridcolor": "white",
             "linecolor": "white",
             "minorgridcolor": "white",
             "startlinecolor": "#2a3f5f"
            },
            "type": "carpet"
           }
          ],
          "choropleth": [
           {
            "colorbar": {
             "outlinewidth": 0,
             "ticks": ""
            },
            "type": "choropleth"
           }
          ],
          "contour": [
           {
            "colorbar": {
             "outlinewidth": 0,
             "ticks": ""
            },
            "colorscale": [
             [
              0,
              "#0d0887"
             ],
             [
              0.1111111111111111,
              "#46039f"
             ],
             [
              0.2222222222222222,
              "#7201a8"
             ],
             [
              0.3333333333333333,
              "#9c179e"
             ],
             [
              0.4444444444444444,
              "#bd3786"
             ],
             [
              0.5555555555555556,
              "#d8576b"
             ],
             [
              0.6666666666666666,
              "#ed7953"
             ],
             [
              0.7777777777777778,
              "#fb9f3a"
             ],
             [
              0.8888888888888888,
              "#fdca26"
             ],
             [
              1,
              "#f0f921"
             ]
            ],
            "type": "contour"
           }
          ],
          "contourcarpet": [
           {
            "colorbar": {
             "outlinewidth": 0,
             "ticks": ""
            },
            "type": "contourcarpet"
           }
          ],
          "heatmap": [
           {
            "colorbar": {
             "outlinewidth": 0,
             "ticks": ""
            },
            "colorscale": [
             [
              0,
              "#0d0887"
             ],
             [
              0.1111111111111111,
              "#46039f"
             ],
             [
              0.2222222222222222,
              "#7201a8"
             ],
             [
              0.3333333333333333,
              "#9c179e"
             ],
             [
              0.4444444444444444,
              "#bd3786"
             ],
             [
              0.5555555555555556,
              "#d8576b"
             ],
             [
              0.6666666666666666,
              "#ed7953"
             ],
             [
              0.7777777777777778,
              "#fb9f3a"
             ],
             [
              0.8888888888888888,
              "#fdca26"
             ],
             [
              1,
              "#f0f921"
             ]
            ],
            "type": "heatmap"
           }
          ],
          "histogram": [
           {
            "marker": {
             "pattern": {
              "fillmode": "overlay",
              "size": 10,
              "solidity": 0.2
             }
            },
            "type": "histogram"
           }
          ],
          "histogram2d": [
           {
            "colorbar": {
             "outlinewidth": 0,
             "ticks": ""
            },
            "colorscale": [
             [
              0,
              "#0d0887"
             ],
             [
              0.1111111111111111,
              "#46039f"
             ],
             [
              0.2222222222222222,
              "#7201a8"
             ],
             [
              0.3333333333333333,
              "#9c179e"
             ],
             [
              0.4444444444444444,
              "#bd3786"
             ],
             [
              0.5555555555555556,
              "#d8576b"
             ],
             [
              0.6666666666666666,
              "#ed7953"
             ],
             [
              0.7777777777777778,
              "#fb9f3a"
             ],
             [
              0.8888888888888888,
              "#fdca26"
             ],
             [
              1,
              "#f0f921"
             ]
            ],
            "type": "histogram2d"
           }
          ],
          "histogram2dcontour": [
           {
            "colorbar": {
             "outlinewidth": 0,
             "ticks": ""
            },
            "colorscale": [
             [
              0,
              "#0d0887"
             ],
             [
              0.1111111111111111,
              "#46039f"
             ],
             [
              0.2222222222222222,
              "#7201a8"
             ],
             [
              0.3333333333333333,
              "#9c179e"
             ],
             [
              0.4444444444444444,
              "#bd3786"
             ],
             [
              0.5555555555555556,
              "#d8576b"
             ],
             [
              0.6666666666666666,
              "#ed7953"
             ],
             [
              0.7777777777777778,
              "#fb9f3a"
             ],
             [
              0.8888888888888888,
              "#fdca26"
             ],
             [
              1,
              "#f0f921"
             ]
            ],
            "type": "histogram2dcontour"
           }
          ],
          "mesh3d": [
           {
            "colorbar": {
             "outlinewidth": 0,
             "ticks": ""
            },
            "type": "mesh3d"
           }
          ],
          "parcoords": [
           {
            "line": {
             "colorbar": {
              "outlinewidth": 0,
              "ticks": ""
             }
            },
            "type": "parcoords"
           }
          ],
          "pie": [
           {
            "automargin": true,
            "type": "pie"
           }
          ],
          "scatter": [
           {
            "fillpattern": {
             "fillmode": "overlay",
             "size": 10,
             "solidity": 0.2
            },
            "type": "scatter"
           }
          ],
          "scatter3d": [
           {
            "line": {
             "colorbar": {
              "outlinewidth": 0,
              "ticks": ""
             }
            },
            "marker": {
             "colorbar": {
              "outlinewidth": 0,
              "ticks": ""
             }
            },
            "type": "scatter3d"
           }
          ],
          "scattercarpet": [
           {
            "marker": {
             "colorbar": {
              "outlinewidth": 0,
              "ticks": ""
             }
            },
            "type": "scattercarpet"
           }
          ],
          "scattergeo": [
           {
            "marker": {
             "colorbar": {
              "outlinewidth": 0,
              "ticks": ""
             }
            },
            "type": "scattergeo"
           }
          ],
          "scattergl": [
           {
            "marker": {
             "colorbar": {
              "outlinewidth": 0,
              "ticks": ""
             }
            },
            "type": "scattergl"
           }
          ],
          "scattermap": [
           {
            "marker": {
             "colorbar": {
              "outlinewidth": 0,
              "ticks": ""
             }
            },
            "type": "scattermap"
           }
          ],
          "scattermapbox": [
           {
            "marker": {
             "colorbar": {
              "outlinewidth": 0,
              "ticks": ""
             }
            },
            "type": "scattermapbox"
           }
          ],
          "scatterpolar": [
           {
            "marker": {
             "colorbar": {
              "outlinewidth": 0,
              "ticks": ""
             }
            },
            "type": "scatterpolar"
           }
          ],
          "scatterpolargl": [
           {
            "marker": {
             "colorbar": {
              "outlinewidth": 0,
              "ticks": ""
             }
            },
            "type": "scatterpolargl"
           }
          ],
          "scatterternary": [
           {
            "marker": {
             "colorbar": {
              "outlinewidth": 0,
              "ticks": ""
             }
            },
            "type": "scatterternary"
           }
          ],
          "surface": [
           {
            "colorbar": {
             "outlinewidth": 0,
             "ticks": ""
            },
            "colorscale": [
             [
              0,
              "#0d0887"
             ],
             [
              0.1111111111111111,
              "#46039f"
             ],
             [
              0.2222222222222222,
              "#7201a8"
             ],
             [
              0.3333333333333333,
              "#9c179e"
             ],
             [
              0.4444444444444444,
              "#bd3786"
             ],
             [
              0.5555555555555556,
              "#d8576b"
             ],
             [
              0.6666666666666666,
              "#ed7953"
             ],
             [
              0.7777777777777778,
              "#fb9f3a"
             ],
             [
              0.8888888888888888,
              "#fdca26"
             ],
             [
              1,
              "#f0f921"
             ]
            ],
            "type": "surface"
           }
          ],
          "table": [
           {
            "cells": {
             "fill": {
              "color": "#EBF0F8"
             },
             "line": {
              "color": "white"
             }
            },
            "header": {
             "fill": {
              "color": "#C8D4E3"
             },
             "line": {
              "color": "white"
             }
            },
            "type": "table"
           }
          ]
         },
         "layout": {
          "annotationdefaults": {
           "arrowcolor": "#2a3f5f",
           "arrowhead": 0,
           "arrowwidth": 1
          },
          "autotypenumbers": "strict",
          "coloraxis": {
           "colorbar": {
            "outlinewidth": 0,
            "ticks": ""
           }
          },
          "colorscale": {
           "diverging": [
            [
             0,
             "#8e0152"
            ],
            [
             0.1,
             "#c51b7d"
            ],
            [
             0.2,
             "#de77ae"
            ],
            [
             0.3,
             "#f1b6da"
            ],
            [
             0.4,
             "#fde0ef"
            ],
            [
             0.5,
             "#f7f7f7"
            ],
            [
             0.6,
             "#e6f5d0"
            ],
            [
             0.7,
             "#b8e186"
            ],
            [
             0.8,
             "#7fbc41"
            ],
            [
             0.9,
             "#4d9221"
            ],
            [
             1,
             "#276419"
            ]
           ],
           "sequential": [
            [
             0,
             "#0d0887"
            ],
            [
             0.1111111111111111,
             "#46039f"
            ],
            [
             0.2222222222222222,
             "#7201a8"
            ],
            [
             0.3333333333333333,
             "#9c179e"
            ],
            [
             0.4444444444444444,
             "#bd3786"
            ],
            [
             0.5555555555555556,
             "#d8576b"
            ],
            [
             0.6666666666666666,
             "#ed7953"
            ],
            [
             0.7777777777777778,
             "#fb9f3a"
            ],
            [
             0.8888888888888888,
             "#fdca26"
            ],
            [
             1,
             "#f0f921"
            ]
           ],
           "sequentialminus": [
            [
             0,
             "#0d0887"
            ],
            [
             0.1111111111111111,
             "#46039f"
            ],
            [
             0.2222222222222222,
             "#7201a8"
            ],
            [
             0.3333333333333333,
             "#9c179e"
            ],
            [
             0.4444444444444444,
             "#bd3786"
            ],
            [
             0.5555555555555556,
             "#d8576b"
            ],
            [
             0.6666666666666666,
             "#ed7953"
            ],
            [
             0.7777777777777778,
             "#fb9f3a"
            ],
            [
             0.8888888888888888,
             "#fdca26"
            ],
            [
             1,
             "#f0f921"
            ]
           ]
          },
          "colorway": [
           "#636efa",
           "#EF553B",
           "#00cc96",
           "#ab63fa",
           "#FFA15A",
           "#19d3f3",
           "#FF6692",
           "#B6E880",
           "#FF97FF",
           "#FECB52"
          ],
          "font": {
           "color": "#2a3f5f"
          },
          "geo": {
           "bgcolor": "white",
           "lakecolor": "white",
           "landcolor": "#E5ECF6",
           "showlakes": true,
           "showland": true,
           "subunitcolor": "white"
          },
          "hoverlabel": {
           "align": "left"
          },
          "hovermode": "closest",
          "mapbox": {
           "style": "light"
          },
          "paper_bgcolor": "white",
          "plot_bgcolor": "#E5ECF6",
          "polar": {
           "angularaxis": {
            "gridcolor": "white",
            "linecolor": "white",
            "ticks": ""
           },
           "bgcolor": "#E5ECF6",
           "radialaxis": {
            "gridcolor": "white",
            "linecolor": "white",
            "ticks": ""
           }
          },
          "scene": {
           "xaxis": {
            "backgroundcolor": "#E5ECF6",
            "gridcolor": "white",
            "gridwidth": 2,
            "linecolor": "white",
            "showbackground": true,
            "ticks": "",
            "zerolinecolor": "white"
           },
           "yaxis": {
            "backgroundcolor": "#E5ECF6",
            "gridcolor": "white",
            "gridwidth": 2,
            "linecolor": "white",
            "showbackground": true,
            "ticks": "",
            "zerolinecolor": "white"
           },
           "zaxis": {
            "backgroundcolor": "#E5ECF6",
            "gridcolor": "white",
            "gridwidth": 2,
            "linecolor": "white",
            "showbackground": true,
            "ticks": "",
            "zerolinecolor": "white"
           }
          },
          "shapedefaults": {
           "line": {
            "color": "#2a3f5f"
           }
          },
          "ternary": {
           "aaxis": {
            "gridcolor": "white",
            "linecolor": "white",
            "ticks": ""
           },
           "baxis": {
            "gridcolor": "white",
            "linecolor": "white",
            "ticks": ""
           },
           "bgcolor": "#E5ECF6",
           "caxis": {
            "gridcolor": "white",
            "linecolor": "white",
            "ticks": ""
           }
          },
          "title": {
           "x": 0.05
          },
          "xaxis": {
           "automargin": true,
           "gridcolor": "white",
           "linecolor": "white",
           "ticks": "",
           "title": {
            "standoff": 15
           },
           "zerolinecolor": "white",
           "zerolinewidth": 2
          },
          "yaxis": {
           "automargin": true,
           "gridcolor": "white",
           "linecolor": "white",
           "ticks": "",
           "title": {
            "standoff": 15
           },
           "zerolinecolor": "white",
           "zerolinewidth": 2
          }
         }
        },
        "title": {
         "text": "AAPL Stock Price with Moving Averages & Volume"
        },
        "xaxis": {
         "rangeslider": {
          "visible": false
         }
        },
        "yaxis": {
         "title": {
          "text": "Stock Price (USD)"
         }
        },
        "yaxis2": {
         "overlaying": "y",
         "showgrid": false,
         "side": "right",
         "title": {
          "text": "Volume"
         }
        }
       }
      }
     },
     "metadata": {},
     "output_type": "display_data"
    }
   ],
   "source": [
    "fig = go.Figure()\n",
    "\n",
    "# Candlestick chart\n",
    "fig.add_trace(go.Candlestick(x=data.index,\n",
    "                open=data['Open'], high=data['High'],\n",
    "                low=data['Low'], close=data['Close'],\n",
    "                name='Price'))\n",
    "\n",
    "# Add Moving Averages\n",
    "fig.add_trace(go.Scatter(x=data.index, y=data['SMA_50'], mode='lines', name='50-Day SMA', line=dict(color='orange')))\n",
    "fig.add_trace(go.Scatter(x=data.index, y=data['SMA_200'], mode='lines', name='200-Day SMA', line=dict(color='green')))\n",
    "\n",
    "# Add volume as bar chart\n",
    "fig.add_trace(go.Bar(x=data.index, y=data['Volume'], name='Volume', yaxis='y2', marker_color='lightblue'))\n",
    "\n",
    "# Layout\n",
    "fig.update_layout(\n",
    "    title=f'{ticker} Stock Price with Moving Averages & Volume',\n",
    "    yaxis_title='Stock Price (USD)',\n",
    "    yaxis2=dict(title='Volume', overlaying='y', side='right', showgrid=False),\n",
    "    xaxis_rangeslider_visible=False,\n",
    "    height=600\n",
    ")\n",
    "\n",
    "fig.show()\n"
   ]
  },
  {
   "cell_type": "code",
   "execution_count": 8,
   "id": "1608393d-52db-4eb9-888f-b597a15dec21",
   "metadata": {},
   "outputs": [],
   "source": [
    "# Calculate 20-day Bollinger Bands\n",
    "data['MA20'] = data['Close'].rolling(window=20).mean()\n",
    "data['STD20'] = data['Close'].rolling(window=20).std()\n",
    "data['UpperBand'] = data['MA20'] + (2 * data['STD20'])\n",
    "data['LowerBand'] = data['MA20'] - (2 * data['STD20'])\n"
   ]
  },
  {
   "cell_type": "code",
   "execution_count": 9,
   "id": "cad7c136-b1ba-471d-b57a-5b5c16ee2c5d",
   "metadata": {},
   "outputs": [
    {
     "data": {
      "image/png": "[encoded data removed]",
      "text/plain": [
       "<Figure size 1400x700 with 1 Axes>"
      ]
     },
     "metadata": {},
     "output_type": "display_data"
    }
   ],
   "source": [
    "plt.figure(figsize=(14, 7))\n",
    "plt.plot(data['Close'], label='Close Price', color='blue')\n",
    "plt.plot(data['MA20'], label='20-Day MA', color='orange')\n",
    "plt.plot(data['UpperBand'], label='Upper Band', color='green', linestyle='--')\n",
    "plt.plot(data['LowerBand'], label='Lower Band', color='red', linestyle='--')\n",
    "plt.title(f'{ticker} Bollinger Bands')\n",
    "plt.xlabel('Date')\n",
    "plt.ylabel('Price (USD)')\n",
    "plt.legend()\n",
    "plt.grid()\n",
    "plt.show()\n"
   ]
  },
  {
   "cell_type": "code",
   "execution_count": 10,
   "id": "599e6591-d18e-4cc0-93c1-e83a2c980b93",
   "metadata": {},
   "outputs": [],
   "source": [
    "# Function to calculate RSI\n",
    "def calculate_rsi(series, period=14):\n",
    "    delta = series.diff()\n",
    "    gain = delta.clip(lower=0)\n",
    "    loss = -delta.clip(upper=0)\n",
    "    avg_gain = gain.rolling(window=period).mean()\n",
    "    avg_loss = loss.rolling(window=period).mean()\n",
    "    rs = avg_gain / avg_loss\n",
    "    rsi = 100 - (100 / (1 + rs))\n",
    "    return rsi\n",
    "\n",
    "data['RSI'] = calculate_rsi(data['Close'])\n"
   ]
  },
  {
   "cell_type": "code",
   "execution_count": 11,
   "id": "33148ac1-e599-435f-b3bd-c4ad19d3310f",
   "metadata": {},
   "outputs": [
    {
     "data": {
      "image/png": "[encoded data removed]",
      "text/plain": [
       "<Figure size 1400x400 with 1 Axes>"
      ]
     },
     "metadata": {},
     "output_type": "display_data"
    }
   ],
   "source": [
    "plt.figure(figsize=(14, 4))\n",
    "plt.plot(data['RSI'], label='RSI', color='purple')\n",
    "plt.axhline(70, color='red', linestyle='--', label='Overbought (70)')\n",
    "plt.axhline(30, color='green', linestyle='--', label='Oversold (30)')\n",
    "plt.title(f'{ticker} Relative Strength Index (RSI)')\n",
    "plt.xlabel('Date')\n",
    "plt.ylabel('RSI Value')\n",
    "plt.legend()\n",
    "plt.grid()\n",
    "plt.show()\n"
   ]
  },
  {
   "cell_type": "code",
   "execution_count": null,
   "id": "e5c69ad4-0161-4ccd-b81c-75d472f72f2e",
   "metadata": {},
   "outputs": [],
   "source": []
  }
 ],
 "metadata": {
  "kernelspec": {
   "display_name": "Python 3 (ipykernel)",
   "language": "python",
   "name": "python3"
  },
  "language_info": {
   "codemirror_mode": {
    "name": "ipython",
    "version": 3
   },
   "file_extension": ".py",
   "mimetype": "text/x-python",
   "name": "python",
   "nbconvert_exporter": "python",
   "pygments_lexer": "ipython3",
   "version": "3.9.13"
  }
 },
 "nbformat": 4,
 "nbformat_minor": 5
}
